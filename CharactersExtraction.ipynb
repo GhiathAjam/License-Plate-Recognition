{
 "cells": [
  {
   "cell_type": "code",
   "execution_count": 1,
   "metadata": {},
   "outputs": [],
   "source": [
    "import numpy as np;\n",
    "import cv2;"
   ]
  },
  {
   "cell_type": "code",
   "execution_count": 8,
   "metadata": {},
   "outputs": [],
   "source": [
    "def extract_characters(img, debug=0):\n",
    "    GaussianFilter= cv2.GaussianBlur(img, (5, 5), 0)\n",
    "    # binary = cv2.threshold(GaussianFilter, 0, 255,cv2.THRESH_BINARY_INV + cv2.THRESH_OTSU)[1]\n",
    "    _, binary = cv2.threshold(GaussianFilter, 80, 255, cv2.THRESH_BINARY_INV)\n",
    "\n",
    "    kernel3 = cv2.getStructuringElement(cv2.MORPH_RECT, (3, 3))\n",
    "    thre_mor = cv2.morphologyEx(binary, cv2.MORPH_DILATE, kernel3)\n",
    "    thre_mor = thre_mor/255\n",
    "    if debug:\n",
    "        print('extracting stage output:')\n",
    "        io.imshow(thre_mor)\n",
    "        io.show()\n",
    "\n",
    "    vertical_projection = np.sum(thre_mor, axis = 0)\n",
    "    start = []\n",
    "    end = []\n",
    "    for i in range(vertical_projection.size -1):\n",
    "        if(vertical_projection[i] == 0):\n",
    "            if(vertical_projection[i+1] != 0):\n",
    "                start.append(i)\n",
    "        if(vertical_projection[i] != 0):\n",
    "            if(vertical_projection[i+1] == 0):\n",
    "                end.append(i)\n",
    "    characters = []\n",
    "    for i in range(len(start)):\n",
    "        characters.append(img[:,start[i]:end[i]])\n",
    "    return characters\n",
    "\n"
   ]
  },
  {
   "cell_type": "code",
   "execution_count": 7,
   "metadata": {},
   "outputs": [
    {
     "data": {
      "text/plain": [
       "[]"
      ]
     },
     "execution_count": 7,
     "metadata": {},
     "output_type": "execute_result"
    }
   ],
   "source": [
    "im = cv2.imread('./DataSet/Brazil/brasil_1.png', cv2.IMREAD_GRAYSCALE)\n",
    "extract_characters(im)"
   ]
  },
  {
   "cell_type": "code",
   "execution_count": null,
   "metadata": {},
   "outputs": [],
   "source": []
  }
 ],
 "metadata": {
  "interpreter": {
   "hash": "f2f3cf91280d617e7f70b1f315f066237280cb9e9177b8df3951076cffbd0af3"
  },
  "kernelspec": {
   "display_name": "Python 3.10.0 64-bit",
   "language": "python",
   "name": "python3"
  },
  "language_info": {
   "codemirror_mode": {
    "name": "ipython",
    "version": 3
   },
   "file_extension": ".py",
   "mimetype": "text/x-python",
   "name": "python",
   "nbconvert_exporter": "python",
   "pygments_lexer": "ipython3",
   "version": "3.8.7"
  },
  "orig_nbformat": 4
 },
 "nbformat": 4,
 "nbformat_minor": 2
}

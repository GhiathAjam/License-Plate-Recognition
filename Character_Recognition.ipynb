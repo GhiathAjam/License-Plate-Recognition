{
 "cells": [
  {
   "cell_type": "code",
   "execution_count": null,
   "metadata": {},
   "outputs": [],
   "source": [
    "import easyocr\n",
    "import cv2\n",
    "from PIL import Image\n",
    "import pytesseract # also add tesseract to your path\n",
    "import cv2\n",
    "\n",
    "import numpy as np\n",
    "import os\n",
    "%pylab inline\n",
    "import matplotlib.pyplot as plt\n",
    "from skimage import io\n",
    "from skimage.color import rgb2gray"
   ]
  },
  {
   "cell_type": "code",
   "execution_count": null,
   "metadata": {},
   "outputs": [],
   "source": [
    "reader = easyocr.Reader(['en'])"
   ]
  },
  {
   "cell_type": "code",
   "execution_count": null,
   "metadata": {},
   "outputs": [],
   "source": [
    "\n",
    "directory = os.fsencode('./plates/')\n",
    "    \n",
    "for file in os.listdir(directory):\n",
    "    IMAGE_PATH = './plates/'+os.fsdecode(file)\n",
    "    print(IMAGE_PATH)\n",
    "    img = cv2.imread(IMAGE_PATH)\n",
    "    img = np.array(img)\n",
    "\n",
    "    io.imshow(img)\n",
    "    io.show()\n",
    "    print(reader.readtext(detail=0, image=img))\n",
    "    print(pytesseract.image_to_string(img))"
   ]
  },
  {
   "cell_type": "code",
   "execution_count": null,
   "metadata": {},
   "outputs": [],
   "source": [
    "\n",
    "directory = os.fsencode('./images/')\n",
    "    \n",
    "for file in os.listdir(directory):\n",
    "    IMAGE_PATH = './images/'+os.fsdecode(file)\n",
    "    print(IMAGE_PATH)\n",
    "    img = cv2.imread(IMAGE_PATH)\n",
    "    img = np.array(img)\n",
    "\n",
    "    io.imshow(img)\n",
    "    io.show()\n",
    "    print(pytesseract.image_to_string(img))"
   ]
  }
 ],
 "metadata": {
  "interpreter": {
   "hash": "1baa965d5efe3ac65b79dfc60c0d706280b1da80fedb7760faf2759126c4f253"
  },
  "kernelspec": {
   "display_name": "Python 3.8.7 64-bit",
   "name": "python3"
  },
  "language_info": {
   "codemirror_mode": {
    "name": "ipython",
    "version": 3
   },
   "file_extension": ".py",
   "mimetype": "text/x-python",
   "name": "python",
   "nbconvert_exporter": "python",
   "pygments_lexer": "ipython3",
   "version": "3.8.7"
  },
  "orig_nbformat": 4
 },
 "nbformat": 4,
 "nbformat_minor": 2
}
